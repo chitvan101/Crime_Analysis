{
  "nbformat": 4,
  "nbformat_minor": 0,
  "metadata": {
    "colab": {
      "provenance": [],
      "collapsed_sections": [],
      "mount_file_id": "1KNM5aTS2_kGWX68S4L9fX540dpUzqpEW",
      "authorship_tag": "ABX9TyNvANEByRpx7S4xySXiQAPO",
      "include_colab_link": true
    },
    "kernelspec": {
      "name": "python3",
      "display_name": "Python 3"
    },
    "language_info": {
      "name": "python"
    },
    "gpuClass": "standard",
    "accelerator": "GPU"
  },
  "cells": [
    {
      "cell_type": "markdown",
      "metadata": {
        "id": "view-in-github",
        "colab_type": "text"
      },
      "source": [
        "<a href=\"https://colab.research.google.com/github/chitvan101/Crime_Analysis/blob/main/KNN.ipynb\" target=\"_parent\"><img src=\"https://colab.research.google.com/assets/colab-badge.svg\" alt=\"Open In Colab\"/></a>"
      ]
    },
    {
      "cell_type": "code",
      "execution_count": 1,
      "metadata": {
        "colab": {
          "base_uri": "https://localhost:8080/"
        },
        "id": "UtPZO3qgf1EM",
        "outputId": "cc2e7cbd-f2ff-4cca-ba60-7f79089d0ced"
      },
      "outputs": [
        {
          "output_type": "stream",
          "name": "stdout",
          "text": [
            "Drive already mounted at /content/drive; to attempt to forcibly remount, call drive.mount(\"/content/drive\", force_remount=True).\n"
          ]
        }
      ],
      "source": [
        "from google.colab import drive\n",
        "drive.mount('/content/drive')"
      ]
    },
    {
      "cell_type": "code",
      "source": [
        "# innstall java\n",
        "!apt-get install openjdk-8-jdk-headless -qq > /dev/null\n",
        "\n",
        "# install spark (change the version number if needed)\n",
        "!wget -q https://archive.apache.org/dist/spark/spark-3.0.0/spark-3.0.0-bin-hadoop3.2.tgz\n",
        "\n",
        "# unzip the spark file to the current folder\n",
        "!tar xf spark-3.0.0-bin-hadoop3.2.tgz\n",
        "\n",
        "# set your spark folder to your system path environment. \n",
        "import os\n",
        "os.environ[\"JAVA_HOME\"] = \"/usr/lib/jvm/java-8-openjdk-amd64\"\n",
        "os.environ[\"SPARK_HOME\"] = \"/content/spark-3.0.0-bin-hadoop3.2\"\n",
        "\n",
        "\n",
        "# install findspark using pip\n",
        "!pip install -q findspark"
      ],
      "metadata": {
        "id": "XCIYpVAdgj8a"
      },
      "execution_count": 2,
      "outputs": []
    },
    {
      "cell_type": "code",
      "source": [
        "import findspark\n",
        "findspark.init()\n",
        "from pyspark.sql import SparkSession\n",
        "spark = SparkSession.builder.master(\"local[*]\").getOrCreate()"
      ],
      "metadata": {
        "id": "Xdv8bXaDh7mV"
      },
      "execution_count": 3,
      "outputs": []
    },
    {
      "cell_type": "code",
      "source": [
        "#spark imports\n",
        "from pyspark import SparkContext\n",
        "from pyspark.sql import SparkSession\n",
        "from pyspark.sql import DataFrame\n",
        "import csv\n",
        "from pyspark.sql.types import *\n",
        "from pyspark.sql.functions import format_number, when\n",
        "import pyspark.sql.functions as F"
      ],
      "metadata": {
        "id": "Fkzq_nBzjnpr"
      },
      "execution_count": 4,
      "outputs": []
    },
    {
      "cell_type": "code",
      "source": [
        "import pandas as pd\n",
        "import matplotlib.pyplot as plt\n",
        "import seaborn as sns\n",
        "import numpy as np\n",
        "\n",
        "from sklearn.model_selection import train_test_split, cross_val_score\n",
        "from sklearn.neighbors import KNeighborsClassifier\n",
        "from sklearn import metrics\n",
        "from sklearn.preprocessing import StandardScaler\n",
        "from sklearn.preprocessing import LabelEncoder"
      ],
      "metadata": {
        "id": "lDFvOjstjpV3"
      },
      "execution_count": 5,
      "outputs": []
    },
    {
      "cell_type": "code",
      "source": [
        "#test CPU type\n",
        "import tensorflow as tf\n",
        "tf.test.gpu_device_name()"
      ],
      "metadata": {
        "colab": {
          "base_uri": "https://localhost:8080/",
          "height": 36
        },
        "id": "6uff7Z8WjKon",
        "outputId": "93d80863-9434-4df8-eaa1-9e787aff905f"
      },
      "execution_count": 6,
      "outputs": [
        {
          "output_type": "execute_result",
          "data": {
            "text/plain": [
              "'/device:GPU:0'"
            ],
            "application/vnd.google.colaboratory.intrinsic+json": {
              "type": "string"
            }
          },
          "metadata": {},
          "execution_count": 6
        }
      ]
    },
    {
      "cell_type": "code",
      "source": [
        "#change RAM allocation, current = 20GB\n",
        "#change Core allocation, current = 3 Cores\n",
        "\n",
        "spark = SparkSession.builder.appName(\"Project - Chicago crime\")\\\n",
        ".config(\"spark.some.config.option\", \"some-value\")\\\n",
        ".config(\"spark.driver.memory\", \"20g\")\\\n",
        ".config(\"spark.driver.cores\", '3')\\\n",
        ".getOrCreate()"
      ],
      "metadata": {
        "id": "kEt7QPbijPT2"
      },
      "execution_count": 7,
      "outputs": []
    },
    {
      "cell_type": "code",
      "source": [
        "crimes_schema = StructType([StructField(\"ID\", IntegerType(), True),\n",
        "                            StructField(\"Case Number\", StringType(), True),\n",
        "                            StructField(\"Date\", StringType(), True ),\n",
        "                            StructField(\"Block\", StringType(), True),\n",
        "                            StructField(\"IUCR\", StringType(), True),\n",
        "                            StructField(\"Primary Type\", StringType(), True  ),\n",
        "                            StructField(\"Description\", StringType(), True ),\n",
        "                            StructField(\"Location Description\", StringType(), True ),\n",
        "                            StructField(\"Arrest\", BooleanType(), True),\n",
        "                            StructField(\"Domestic\", BooleanType(), True),\n",
        "                            StructField(\"Beat\", IntegerType(), True),\n",
        "                            StructField(\"District\", IntegerType(), True),\n",
        "                            StructField(\"Ward\", IntegerType(), True),\n",
        "                            StructField(\"Community Area\", IntegerType(), True),\n",
        "                            StructField(\"FBI Code\", StringType(), True ),\n",
        "                            StructField(\"X Coordinate\", IntegerType(), True),\n",
        "                            StructField(\"Y Coordinate\", IntegerType(), True ),\n",
        "                            StructField(\"Year\", IntegerType(), True),\n",
        "                            StructField(\"Updated On\", StringType(), True ),\n",
        "                            StructField(\"Latitude\", DoubleType(), True),\n",
        "                            StructField(\"Longitude\", DoubleType(), True),\n",
        "                            StructField(\"Location\", StringType(), True )\n",
        "                            ])\n"
      ],
      "metadata": {
        "id": "hvJfJzSkjWgc"
      },
      "execution_count": 8,
      "outputs": []
    },
    {
      "cell_type": "code",
      "source": [
        "data = spark.read.csv('/content/drive/MyDrive/Book1.csv',header = True,schema = crimes_schema)"
      ],
      "metadata": {
        "id": "O6WfQXQejecZ"
      },
      "execution_count": 9,
      "outputs": []
    },
    {
      "cell_type": "code",
      "source": [
        "data.head(5)"
      ],
      "metadata": {
        "colab": {
          "base_uri": "https://localhost:8080/"
        },
        "id": "0Twl66Rfj17E",
        "outputId": "d51c2215-5074-40ee-81af-80f44da0a4ad"
      },
      "execution_count": 10,
      "outputs": [
        {
          "output_type": "execute_result",
          "data": {
            "text/plain": [
              "[Row(ID=10224738, Case Number='HY411648', Date='09-05-2015 13:30', Block='043XX S WOOD ST', IUCR='486', Primary Type='BATTERY', Description='DOMESTIC BATTERY SIMPLE', Location Description='RESIDENCE', Arrest=False, Domestic=True, Beat=924, District=9, Ward=12, Community Area=61, FBI Code='08B', X Coordinate=1165074, Y Coordinate=1875917, Year=2015, Updated On='02-10-2018 15:50', Latitude=41.81511728, Longitude=-87.66999956, Location='(41.815117282, -87.669999562)'),\n",
              " Row(ID=10224739, Case Number='HY411615', Date='09-04-2015 11:30', Block='008XX N CENTRAL AVE', IUCR='870', Primary Type='THEFT', Description='POCKET-PICKING', Location Description='CTA BUS', Arrest=False, Domestic=False, Beat=1511, District=15, Ward=29, Community Area=25, FBI Code='6', X Coordinate=1138875, Y Coordinate=1904869, Year=2015, Updated On='02-10-2018 15:50', Latitude=41.89508047, Longitude=-87.76540045, Location='(41.895080471, -87.765400451)'),\n",
              " Row(ID=11646166, Case Number='JC213529', Date='09-01-2018 00:01', Block='082XX S INGLESIDE AVE', IUCR='810', Primary Type='THEFT', Description='OVER $500', Location Description='RESIDENCE', Arrest=False, Domestic=True, Beat=631, District=6, Ward=8, Community Area=44, FBI Code='6', X Coordinate=None, Y Coordinate=None, Year=2018, Updated On='04-06-2019 16:04', Latitude=None, Longitude=None, Location=None),\n",
              " Row(ID=10224740, Case Number='HY411595', Date='09-05-2015 12:45', Block='035XX W BARRY AVE', IUCR='2023', Primary Type='NARCOTICS', Description='POSS: HEROIN(BRN/TAN)', Location Description='SIDEWALK', Arrest=True, Domestic=False, Beat=1412, District=14, Ward=35, Community Area=21, FBI Code='18', X Coordinate=1152037, Y Coordinate=1920384, Year=2015, Updated On='02-10-2018 15:50', Latitude=41.93740577, Longitude=-87.71664969, Location='(41.937405765, -87.716649687)'),\n",
              " Row(ID=10224741, Case Number='HY411610', Date='09-05-2015 13:00', Block='0000X N LARAMIE AVE', IUCR='560', Primary Type='ASSAULT', Description='SIMPLE', Location Description='APARTMENT', Arrest=False, Domestic=True, Beat=1522, District=15, Ward=28, Community Area=25, FBI Code='08A', X Coordinate=1141706, Y Coordinate=1900086, Year=2015, Updated On='02-10-2018 15:50', Latitude=41.88190344, Longitude=-87.75512115, Location='(41.881903443, -87.755121152)')]"
            ]
          },
          "metadata": {},
          "execution_count": 10
        }
      ]
    },
    {
      "cell_type": "code",
      "source": [
        "dataset = data.filter((data['Year'] >2009) & (data['Year'] !=2022))"
      ],
      "metadata": {
        "id": "R1UvEcIakFzj"
      },
      "execution_count": 11,
      "outputs": []
    },
    {
      "cell_type": "code",
      "source": [
        "#dropping columns which non-relative \n",
        "\n",
        "dataset = dataset.drop('ID')\n",
        "dataset = dataset.drop('Case Number')\n",
        "dataset = dataset.drop('FBI Code')\n",
        "dataset = dataset.drop('Updated On')\n",
        "dataset = dataset.drop('IUCR')\n",
        "dataset = dataset.drop('X Coordinate')\n",
        "dataset = dataset.drop('Y Coordinate')\n",
        "dataset = dataset.drop('Location')\n",
        "dataset = dataset.drop('Description')\n",
        "dataset = dataset.drop('Domestic')"
      ],
      "metadata": {
        "id": "lrBvj-kEkNXK"
      },
      "execution_count": 12,
      "outputs": []
    },
    {
      "cell_type": "code",
      "source": [
        "primaryCount = dataset.groupby('Primary Type').count()\n",
        "primaryCount.orderBy('count', ascending=False).show()"
      ],
      "metadata": {
        "colab": {
          "base_uri": "https://localhost:8080/"
        },
        "id": "08NSaPZikRIl",
        "outputId": "61ce00ab-e1da-4d8c-ac7d-e3266d3d98ab"
      },
      "execution_count": 13,
      "outputs": [
        {
          "output_type": "stream",
          "name": "stdout",
          "text": [
            "+--------------------+-----+\n",
            "|        Primary Type|count|\n",
            "+--------------------+-----+\n",
            "|               THEFT|22263|\n",
            "|             BATTERY|18127|\n",
            "|     CRIMINAL DAMAGE|11175|\n",
            "|           NARCOTICS| 7728|\n",
            "|  DECEPTIVE PRACTICE| 6665|\n",
            "|       OTHER OFFENSE| 6587|\n",
            "|             ASSAULT| 6262|\n",
            "|            BURGLARY| 5355|\n",
            "|             ROBBERY| 3912|\n",
            "| MOTOR VEHICLE THEFT| 3853|\n",
            "|   CRIMINAL TRESPASS| 2278|\n",
            "|   WEAPONS VIOLATION| 1314|\n",
            "|OFFENSE INVOLVING...|  903|\n",
            "|PUBLIC PEACE VIOL...|  843|\n",
            "| CRIM SEXUAL ASSAULT|  596|\n",
            "|INTERFERENCE WITH...|  501|\n",
            "|         SEX OFFENSE|  438|\n",
            "|        PROSTITUTION|  406|\n",
            "|               ARSON|  187|\n",
            "|            GAMBLING|  124|\n",
            "+--------------------+-----+\n",
            "only showing top 20 rows\n",
            "\n"
          ]
        }
      ]
    },
    {
      "cell_type": "code",
      "source": [
        "print('Distinct primary types '+ str(primaryCount.distinct().count()))"
      ],
      "metadata": {
        "colab": {
          "base_uri": "https://localhost:8080/"
        },
        "id": "mGGu0uVQkVtn",
        "outputId": "cd0fd404-3c41-4473-9e6b-7e75379b3f1c"
      },
      "execution_count": 14,
      "outputs": [
        {
          "output_type": "stream",
          "name": "stdout",
          "text": [
            "Distinct primary types 33\n"
          ]
        }
      ]
    },
    {
      "cell_type": "code",
      "source": [
        "dataset = dataset.filter((dataset['Primary Type']!='STALKING')&\n",
        "                             (dataset['Primary Type']!='OBSCENITY')&\n",
        "                             (dataset['Primary Type']!='NON-CRIMINAL (SUBJECT SPECIFIED)')&\n",
        "                             (dataset['Primary Type']!='GAMBLING')&\n",
        "                             (dataset['Primary Type']!='NON - CRIMINAL')&\n",
        "                             (dataset['Primary Type']!='LIQUOR LAW VIOLATION')&\n",
        "                             (dataset['Primary Type']!='PUBLIC INDECENCY')&\n",
        "                             (dataset['Primary Type']!='HUMAN TRAFFICKING')&\n",
        "                             (dataset['Primary Type']!='INTIMIDATION')&\n",
        "                             (dataset['Primary Type']!='CONCEALED CARRY LICENSE VIOLATION')&\n",
        "                             (dataset['Primary Type']!='NON-CRIMINAL')&\n",
        "                             (dataset['Primary Type']!='OTHER NARCOTIC VIOLATION'))\n"
      ],
      "metadata": {
        "id": "7WFlvTcelBmy"
      },
      "execution_count": 15,
      "outputs": []
    },
    {
      "cell_type": "code",
      "source": [
        "dataset = dataset.withColumn(\"Primary Type\", \\\n",
        "                               when((dataset[\"Primary Type\"] == 'CRIM SEXUAL ASSAULT') | \\\n",
        "                                    (dataset[\"Primary Type\"] == 'PROSTITUTION') ,'SEX OFFENSE').otherwise(dataset['Primary Type']))\n",
        "dataset=dataset.withColumn(\"Primary Type\", \\\n",
        "                               when((dataset[\"Primary Type\"] == 'WEAPONS VIOLATION') | \\\n",
        "                                    (dataset[\"Primary Type\"] == 'INTERFERENCE WITH PUBLIC OFFICER') ,'PUBLIC PEACE VIOLATION').otherwise(dataset['Primary Type']))\n",
        "dataset=dataset.withColumn(\"Primary Type\", \\\n",
        "                               when((dataset[\"Primary Type\"] == 'ARSON') ,'CRIMINAL TRESPASS').otherwise(dataset['Primary Type']))\n"
      ],
      "metadata": {
        "id": "grAyEiqKlL5N"
      },
      "execution_count": 16,
      "outputs": []
    },
    {
      "cell_type": "code",
      "source": [
        "primaryCount = dataset.groupby('Primary Type').count()\n",
        "primaryCount.orderBy('count', ascending=False).show()"
      ],
      "metadata": {
        "colab": {
          "base_uri": "https://localhost:8080/"
        },
        "id": "INT5Idi9lQ3S",
        "outputId": "951a7004-11ce-42aa-fc18-2328d1309649"
      },
      "execution_count": 17,
      "outputs": [
        {
          "output_type": "stream",
          "name": "stdout",
          "text": [
            "+--------------------+-----+\n",
            "|        Primary Type|count|\n",
            "+--------------------+-----+\n",
            "|               THEFT|22263|\n",
            "|             BATTERY|18127|\n",
            "|     CRIMINAL DAMAGE|11175|\n",
            "|           NARCOTICS| 7728|\n",
            "|  DECEPTIVE PRACTICE| 6665|\n",
            "|       OTHER OFFENSE| 6587|\n",
            "|             ASSAULT| 6262|\n",
            "|            BURGLARY| 5355|\n",
            "|             ROBBERY| 3912|\n",
            "| MOTOR VEHICLE THEFT| 3853|\n",
            "|PUBLIC PEACE VIOL...| 2658|\n",
            "|   CRIMINAL TRESPASS| 2465|\n",
            "|         SEX OFFENSE| 1440|\n",
            "|OFFENSE INVOLVING...|  903|\n",
            "|          KIDNAPPING|   76|\n",
            "|CRIMINAL SEXUAL A...|   18|\n",
            "|            HOMICIDE|    2|\n",
            "+--------------------+-----+\n",
            "\n"
          ]
        }
      ]
    },
    {
      "cell_type": "code",
      "source": [
        "print('Distinct primary types after preprocessing '+ str(primaryCount.distinct().count()))"
      ],
      "metadata": {
        "colab": {
          "base_uri": "https://localhost:8080/"
        },
        "id": "i2gFq7lnlVlj",
        "outputId": "5d45e70b-5a13-4da8-b5d8-e4c5526f717d"
      },
      "execution_count": 18,
      "outputs": [
        {
          "output_type": "stream",
          "name": "stdout",
          "text": [
            "Distinct primary types after preprocessing 17\n"
          ]
        }
      ]
    },
    {
      "cell_type": "code",
      "source": [
        "dataset = dataset.withColumn(\"Day\", F.split(dataset.Date, \" \")[0])\n",
        "dataset = dataset.withColumn(\"Day\", F.to_date(dataset.Day, \"MM/dd/yyyy\"))\n",
        "dataset = dataset.withColumn(\"Month\", F.month(dataset.Day))\n",
        "dataset = dataset.withColumn(\"WeekDay\", F.dayofweek(dataset.Day))\n",
        "dataset = dataset.withColumn(\"Year\", F.year(dataset.Day))\n",
        "dataset = dataset.na.drop()\n",
        "dataset = dataset.drop('Date')\n",
        "dataset = dataset.drop('Day')\n",
        "dataset.head(5)"
      ],
      "metadata": {
        "colab": {
          "base_uri": "https://localhost:8080/"
        },
        "id": "q1uhGhuQlkkC",
        "outputId": "8d66b041-f820-4172-9305-1a8b7bb00729"
      },
      "execution_count": 19,
      "outputs": [
        {
          "output_type": "execute_result",
          "data": {
            "text/plain": [
              "[Row(Block='035XX S MICHIGAN AVE', Primary Type='OTHER OFFENSE', Location Description='POLICE FACILITY/VEH PARKING LOT', Arrest=True, Beat=213, District=2, Ward=3, Community Area=35, Year=2014, Latitude=41.83061185, Longitude=-87.62324737, Month=3, WeekDay=5),\n",
              " Row(Block='014XX S MICHIGAN AVE', Primary Type='THEFT', Location Description='RESIDENCE-GARAGE', Arrest=False, Beat=131, District=1, Ward=2, Community Area=33, Year=2015, Latitude=41.86323513, Longitude=-87.62406127, Month=8, WeekDay=1),\n",
              " Row(Block='065XX N MAPLEWOOD AVE', Primary Type='THEFT', Location Description='STREET', Arrest=False, Beat=2412, District=24, Ward=50, Community Area=2, Year=2015, Latitude=42.00032784, Longitude=-87.69361533, Month=8, WeekDay=3),\n",
              " Row(Block='039XX N LECLAIRE AVE', Primary Type='THEFT', Location Description='STREET', Arrest=False, Beat=1634, District=16, Ward=45, Community Area=15, Year=2020, Latitude=41.95205195, Longitude=-87.75466037, Month=3, WeekDay=3),\n",
              " Row(Block='014XX W BARRY AVE', Primary Type='THEFT', Location Description='STREET', Arrest=False, Beat=1933, District=19, Ward=32, Community Area=6, Year=2015, Latitude=41.93792558, Longitude=-87.66488023, Month=8, WeekDay=2)]"
            ]
          },
          "metadata": {},
          "execution_count": 19
        }
      ]
    },
    {
      "cell_type": "code",
      "source": [
        "dataset=dataset.na.drop()"
      ],
      "metadata": {
        "id": "pJ2xiIKyl89o"
      },
      "execution_count": 20,
      "outputs": []
    },
    {
      "cell_type": "code",
      "source": [
        "data = dataset.toPandas()"
      ],
      "metadata": {
        "id": "ur1IeWtVmCVJ"
      },
      "execution_count": 21,
      "outputs": []
    },
    {
      "cell_type": "code",
      "source": [
        "data.columns"
      ],
      "metadata": {
        "colab": {
          "base_uri": "https://localhost:8080/"
        },
        "id": "rPaZQfa8mJms",
        "outputId": "3576c2a2-a641-45fb-f3cd-18b236168405"
      },
      "execution_count": 22,
      "outputs": [
        {
          "output_type": "execute_result",
          "data": {
            "text/plain": [
              "Index(['Block', 'Primary Type', 'Location Description', 'Arrest', 'Beat',\n",
              "       'District', 'Ward', 'Community Area', 'Year', 'Latitude', 'Longitude',\n",
              "       'Month', 'WeekDay'],\n",
              "      dtype='object')"
            ]
          },
          "metadata": {},
          "execution_count": 22
        }
      ]
    },
    {
      "cell_type": "code",
      "source": [
        "primaryVisualizeDF = data.groupby('Primary Type').size()"
      ],
      "metadata": {
        "id": "4dVFwAdGmsfR"
      },
      "execution_count": 24,
      "outputs": []
    },
    {
      "cell_type": "code",
      "source": [
        "primaryVisualizeDF.plot.pie(figsize = (15,15))\n",
        "plt.xlabel('Primary Crime Type', fontsize=10, color = 'red')\n",
        "plt.legend()"
      ],
      "metadata": {
        "colab": {
          "base_uri": "https://localhost:8080/",
          "height": 877
        },
        "id": "FQgp9wGjmxY3",
        "outputId": "4bbcbbf7-014b-4966-c007-7821fef73188"
      },
      "execution_count": 25,
      "outputs": [
        {
          "output_type": "execute_result",
          "data": {
            "text/plain": [
              "<matplotlib.legend.Legend at 0x7f9fcd67d090>"
            ]
          },
          "metadata": {},
          "execution_count": 25
        },
        {
          "output_type": "display_data",
          "data": {
            "text/plain": [
              "<Figure size 1080x1080 with 1 Axes>"
            ],
            "image/png": "[encoded data removed]"
          },
          "metadata": {}
        }
      ]
    },
    {
      "cell_type": "code",
      "source": [
        "data = data.replace(to_replace='None', value=np.nan).dropna()"
      ],
      "metadata": {
        "id": "1KSC3jG2m2A8"
      },
      "execution_count": 26,
      "outputs": []
    },
    {
      "cell_type": "code",
      "source": [
        "# create an instance of label encoder for categorical variables\n",
        "labelEncoder = LabelEncoder()\n",
        "primaryEncoded = labelEncoder.fit_transform(data['Primary Type'])\n",
        "primaryEncoded"
      ],
      "metadata": {
        "colab": {
          "base_uri": "https://localhost:8080/"
        },
        "id": "t3gsxLQUnEs9",
        "outputId": "ff6681bb-51e8-433c-92a6-b075895ece9e"
      },
      "execution_count": 27,
      "outputs": [
        {
          "output_type": "execute_result",
          "data": {
            "text/plain": [
              "array([12, 16, 16, ..., 16,  3,  3])"
            ]
          },
          "metadata": {},
          "execution_count": 27
        }
      ]
    },
    {
      "cell_type": "code",
      "source": [
        "data['Primary Type'] = primaryEncoded\n",
        "# create an instance of label encoder for categorical variables\n",
        "labelEncoder2 = LabelEncoder()\n",
        "locDiscEncoded = labelEncoder2.fit_transform(data['Location Description'])\n",
        "locDiscEncoded"
      ],
      "metadata": {
        "colab": {
          "base_uri": "https://localhost:8080/"
        },
        "id": "bvnsK-evoszs",
        "outputId": "72723acc-e909-4c69-ca2b-e0e2a12a4a92"
      },
      "execution_count": 28,
      "outputs": [
        {
          "output_type": "execute_result",
          "data": {
            "text/plain": [
              "array([ 81,  88, 100, ...,  78, 100,  83])"
            ]
          },
          "metadata": {},
          "execution_count": 28
        }
      ]
    },
    {
      "cell_type": "code",
      "source": [
        "data['Location Description'] = locDiscEncoded\n",
        "# create an instance of label encoder for categorical variables\n",
        "labelEncoder3 = LabelEncoder()\n",
        "blockEncoded = labelEncoder2.fit_transform(data['Location Description'])\n",
        "blockEncoded"
      ],
      "metadata": {
        "colab": {
          "base_uri": "https://localhost:8080/"
        },
        "id": "TOGuA4koow11",
        "outputId": "2f00d383-a763-454b-ec47-d1074c9dc9ea"
      },
      "execution_count": 29,
      "outputs": [
        {
          "output_type": "execute_result",
          "data": {
            "text/plain": [
              "array([ 81,  88, 100, ...,  78, 100,  83])"
            ]
          },
          "metadata": {},
          "execution_count": 29
        }
      ]
    },
    {
      "cell_type": "code",
      "source": [
        "data['Block'] = locDiscEncoded"
      ],
      "metadata": {
        "id": "3mvSawN7o-Wa"
      },
      "execution_count": 30,
      "outputs": []
    },
    {
      "cell_type": "code",
      "source": [
        "#Use PCA to combine features\n",
        "\n",
        "from sklearn.decomposition import PCA\n",
        "location = data[['Latitude','Longitude']]\n",
        "pca = PCA(n_components=1,random_state=123)\n",
        "loc = pca.fit_transform(location)\n",
        "data['Location'] = loc\n",
        "data.head(5)"
      ],
      "metadata": {
        "colab": {
          "base_uri": "https://localhost:8080/",
          "height": 206
        },
        "id": "JxkahrO0pC5G",
        "outputId": "9374f641-6018-4a17-bde8-64f90f6a9cd4"
      },
      "execution_count": 31,
      "outputs": [
        {
          "output_type": "execute_result",
          "data": {
            "text/plain": [
              "   Block  Primary Type  Location Description  Arrest  Beat  District  Ward  \\\n",
              "0     81            12                    81    True   213         2     3   \n",
              "1     88            16                    88   False   131         1     2   \n",
              "2    100            16                   100   False  2412        24    50   \n",
              "3    100            16                   100   False  1634        16    45   \n",
              "4    100            16                   100   False  1933        19    32   \n",
              "\n",
              "   Community Area  Year   Latitude  Longitude  Month  WeekDay  Location  \n",
              "0              35  2014  41.830612 -87.623247      3        5 -0.032389  \n",
              "1              33  2015  41.863235 -87.624061      8        1 -0.003202  \n",
              "2               2  2015  42.000328 -87.693615      8        3  0.150498  \n",
              "3              15  2020  41.952052 -87.754660      3        3  0.136527  \n",
              "4               6  2015  41.937926 -87.664880      8        2  0.081909  "
            ],
            "text/html": [
              "\n",
              "  <div id=\"df-34de6f83-940c-4f1e-8068-3153d33acef9\">\n",
              "    <div class=\"colab-df-container\">\n",
              "      <div>\n",
              "<style scoped>\n",
              "    .dataframe tbody tr th:only-of-type {\n",
              "        vertical-align: middle;\n",
              "    }\n",
              "\n",
              "    .dataframe tbody tr th {\n",
              "        vertical-align: top;\n",
              "    }\n",
              "\n",
              "    .dataframe thead th {\n",
              "        text-align: right;\n",
              "    }\n",
              "</style>\n",
              "<table border=\"1\" class=\"dataframe\">\n",
              "  <thead>\n",
              "    <tr style=\"text-align: right;\">\n",
              "      <th></th>\n",
              "      <th>Block</th>\n",
              "      <th>Primary Type</th>\n",
              "      <th>Location Description</th>\n",
              "      <th>Arrest</th>\n",
              "      <th>Beat</th>\n",
              "      <th>District</th>\n",
              "      <th>Ward</th>\n",
              "      <th>Community Area</th>\n",
              "      <th>Year</th>\n",
              "      <th>Latitude</th>\n",
              "      <th>Longitude</th>\n",
              "      <th>Month</th>\n",
              "      <th>WeekDay</th>\n",
              "      <th>Location</th>\n",
              "    </tr>\n",
              "  </thead>\n",
              "  <tbody>\n",
              "    <tr>\n",
              "      <th>0</th>\n",
              "      <td>81</td>\n",
              "      <td>12</td>\n",
              "      <td>81</td>\n",
              "      <td>True</td>\n",
              "      <td>213</td>\n",
              "      <td>2</td>\n",
              "      <td>3</td>\n",
              "      <td>35</td>\n",
              "      <td>2014</td>\n",
              "      <td>41.830612</td>\n",
              "      <td>-87.623247</td>\n",
              "      <td>3</td>\n",
              "      <td>5</td>\n",
              "      <td>-0.032389</td>\n",
              "    </tr>\n",
              "    <tr>\n",
              "      <th>1</th>\n",
              "      <td>88</td>\n",
              "      <td>16</td>\n",
              "      <td>88</td>\n",
              "      <td>False</td>\n",
              "      <td>131</td>\n",
              "      <td>1</td>\n",
              "      <td>2</td>\n",
              "      <td>33</td>\n",
              "      <td>2015</td>\n",
              "      <td>41.863235</td>\n",
              "      <td>-87.624061</td>\n",
              "      <td>8</td>\n",
              "      <td>1</td>\n",
              "      <td>-0.003202</td>\n",
              "    </tr>\n",
              "    <tr>\n",
              "      <th>2</th>\n",
              "      <td>100</td>\n",
              "      <td>16</td>\n",
              "      <td>100</td>\n",
              "      <td>False</td>\n",
              "      <td>2412</td>\n",
              "      <td>24</td>\n",
              "      <td>50</td>\n",
              "      <td>2</td>\n",
              "      <td>2015</td>\n",
              "      <td>42.000328</td>\n",
              "      <td>-87.693615</td>\n",
              "      <td>8</td>\n",
              "      <td>3</td>\n",
              "      <td>0.150498</td>\n",
              "    </tr>\n",
              "    <tr>\n",
              "      <th>3</th>\n",
              "      <td>100</td>\n",
              "      <td>16</td>\n",
              "      <td>100</td>\n",
              "      <td>False</td>\n",
              "      <td>1634</td>\n",
              "      <td>16</td>\n",
              "      <td>45</td>\n",
              "      <td>15</td>\n",
              "      <td>2020</td>\n",
              "      <td>41.952052</td>\n",
              "      <td>-87.754660</td>\n",
              "      <td>3</td>\n",
              "      <td>3</td>\n",
              "      <td>0.136527</td>\n",
              "    </tr>\n",
              "    <tr>\n",
              "      <th>4</th>\n",
              "      <td>100</td>\n",
              "      <td>16</td>\n",
              "      <td>100</td>\n",
              "      <td>False</td>\n",
              "      <td>1933</td>\n",
              "      <td>19</td>\n",
              "      <td>32</td>\n",
              "      <td>6</td>\n",
              "      <td>2015</td>\n",
              "      <td>41.937926</td>\n",
              "      <td>-87.664880</td>\n",
              "      <td>8</td>\n",
              "      <td>2</td>\n",
              "      <td>0.081909</td>\n",
              "    </tr>\n",
              "  </tbody>\n",
              "</table>\n",
              "</div>\n",
              "      <button class=\"colab-df-convert\" onclick=\"convertToInteractive('df-34de6f83-940c-4f1e-8068-3153d33acef9')\"\n",
              "              title=\"Convert this dataframe to an interactive table.\"\n",
              "              style=\"display:none;\">\n",
              "        \n",
              "  <svg xmlns=\"http://www.w3.org/2000/svg\" height=\"24px\"viewBox=\"0 0 24 24\"\n",
              "       width=\"24px\">\n",
              "    <path d=\"M0 0h24v24H0V0z\" fill=\"none\"/>\n",
              "    <path d=\"M18.56 5.44l.94 2.06.94-2.06 2.06-.94-2.06-.94-.94-2.06-.94 2.06-2.06.94zm-11 1L8.5 8.5l.94-2.06 2.06-.94-2.06-.94L8.5 2.5l-.94 2.06-2.06.94zm10 10l.94 2.06.94-2.06 2.06-.94-2.06-.94-.94-2.06-.94 2.06-2.06.94z\"/><path d=\"M17.41 7.96l-1.37-1.37c-.4-.4-.92-.59-1.43-.59-.52 0-1.04.2-1.43.59L10.3 9.45l-7.72 7.72c-.78.78-.78 2.05 0 2.83L4 21.41c.39.39.9.59 1.41.59.51 0 1.02-.2 1.41-.59l7.78-7.78 2.81-2.81c.8-.78.8-2.07 0-2.86zM5.41 20L4 18.59l7.72-7.72 1.47 1.35L5.41 20z\"/>\n",
              "  </svg>\n",
              "      </button>\n",
              "      \n",
              "  <style>\n",
              "    .colab-df-container {\n",
              "      display:flex;\n",
              "      flex-wrap:wrap;\n",
              "      gap: 12px;\n",
              "    }\n",
              "\n",
              "    .colab-df-convert {\n",
              "      background-color: #E8F0FE;\n",
              "      border: none;\n",
              "      border-radius: 50%;\n",
              "      cursor: pointer;\n",
              "      display: none;\n",
              "      fill: #1967D2;\n",
              "      height: 32px;\n",
              "      padding: 0 0 0 0;\n",
              "      width: 32px;\n",
              "    }\n",
              "\n",
              "    .colab-df-convert:hover {\n",
              "      background-color: #E2EBFA;\n",
              "      box-shadow: 0px 1px 2px rgba(60, 64, 67, 0.3), 0px 1px 3px 1px rgba(60, 64, 67, 0.15);\n",
              "      fill: #174EA6;\n",
              "    }\n",
              "\n",
              "    [theme=dark] .colab-df-convert {\n",
              "      background-color: #3B4455;\n",
              "      fill: #D2E3FC;\n",
              "    }\n",
              "\n",
              "    [theme=dark] .colab-df-convert:hover {\n",
              "      background-color: #434B5C;\n",
              "      box-shadow: 0px 1px 3px 1px rgba(0, 0, 0, 0.15);\n",
              "      filter: drop-shadow(0px 1px 2px rgba(0, 0, 0, 0.3));\n",
              "      fill: #FFFFFF;\n",
              "    }\n",
              "  </style>\n",
              "\n",
              "      <script>\n",
              "        const buttonEl =\n",
              "          document.querySelector('#df-34de6f83-940c-4f1e-8068-3153d33acef9 button.colab-df-convert');\n",
              "        buttonEl.style.display =\n",
              "          google.colab.kernel.accessAllowed ? 'block' : 'none';\n",
              "\n",
              "        async function convertToInteractive(key) {\n",
              "          const element = document.querySelector('#df-34de6f83-940c-4f1e-8068-3153d33acef9');\n",
              "          const dataTable =\n",
              "            await google.colab.kernel.invokeFunction('convertToInteractive',\n",
              "                                                     [key], {});\n",
              "          if (!dataTable) return;\n",
              "\n",
              "          const docLinkHtml = 'Like what you see? Visit the ' +\n",
              "            '<a target=\"_blank\" href=https://colab.research.google.com/notebooks/data_table.ipynb>data table notebook</a>'\n",
              "            + ' to learn more about interactive tables.';\n",
              "          element.innerHTML = '';\n",
              "          dataTable['output_type'] = 'display_data';\n",
              "          await google.colab.output.renderOutput(dataTable, element);\n",
              "          const docLink = document.createElement('div');\n",
              "          docLink.innerHTML = docLinkHtml;\n",
              "          element.appendChild(docLink);\n",
              "        }\n",
              "      </script>\n",
              "    </div>\n",
              "  </div>\n",
              "  "
            ]
          },
          "metadata": {},
          "execution_count": 31
        }
      ]
    },
    {
      "cell_type": "code",
      "source": [
        "#taking a fraction of data\n",
        "data_sample = data.sample(frac=0.1, random_state=123)"
      ],
      "metadata": {
        "id": "7in-a5QnpHh2"
      },
      "execution_count": 32,
      "outputs": []
    },
    {
      "cell_type": "code",
      "source": [
        "from sklearn.ensemble import ExtraTreesClassifier\n",
        "import matplotlib.pyplot as plt\n",
        "model = ExtraTreesClassifier()"
      ],
      "metadata": {
        "id": "5ZcO2NRlqVKc"
      },
      "execution_count": 33,
      "outputs": []
    },
    {
      "cell_type": "code",
      "source": [
        "X = data_sample.loc[:, data.columns != 'Primary Type']\n",
        "\n",
        "model.fit(X,data_sample['Primary Type'])"
      ],
      "metadata": {
        "colab": {
          "base_uri": "https://localhost:8080/"
        },
        "id": "NRT2t1JgqnTS",
        "outputId": "bc63483c-4f49-4bbf-dac4-453a7cd80e9a"
      },
      "execution_count": 34,
      "outputs": [
        {
          "output_type": "execute_result",
          "data": {
            "text/plain": [
              "ExtraTreesClassifier()"
            ]
          },
          "metadata": {},
          "execution_count": 34
        }
      ]
    },
    {
      "cell_type": "code",
      "source": [
        "print(model.feature_importances_) #use inbuilt class feature_importances of tree based classifiers"
      ],
      "metadata": {
        "colab": {
          "base_uri": "https://localhost:8080/"
        },
        "id": "bcEIwxJaqpEl",
        "outputId": "86d5f09a-fdd1-4083-c6ca-68408f313c1d"
      },
      "execution_count": 35,
      "outputs": [
        {
          "output_type": "stream",
          "name": "stdout",
          "text": [
            "[0.07913887 0.07992958 0.03789447 0.08777579 0.03120289 0.05979207\n",
            " 0.05591777 0.0068475  0.12256721 0.12399852 0.09405155 0.09943651\n",
            " 0.12144725]\n"
          ]
        }
      ]
    },
    {
      "cell_type": "code",
      "source": [
        "#plot graph of feature importances for better visualization\n",
        "feat_importances = pd.Series(model.feature_importances_, index=X.columns)\n",
        "#plot for top 10 features\n",
        "feat_importances.nlargest(10).plot(kind='barh')\n",
        "plt.show()"
      ],
      "metadata": {
        "colab": {
          "base_uri": "https://localhost:8080/",
          "height": 265
        },
        "id": "Cy89xWDph9JX",
        "outputId": "189045c5-8405-4a01-c8f9-ffa4bde4d6d4"
      },
      "execution_count": 36,
      "outputs": [
        {
          "output_type": "display_data",
          "data": {
            "text/plain": [
              "<Figure size 432x288 with 1 Axes>"
            ],
            "image/png": "[encoded data removed]"
          },
          "metadata": {
            "needs_background": "light"
          }
        }
      ]
    },
    {
      "cell_type": "code",
      "source": [
        "corelation = data.corr()\n",
        "corelation"
      ],
      "metadata": {
        "colab": {
          "base_uri": "https://localhost:8080/",
          "height": 532
        },
        "id": "drVUT-fTh_yO",
        "outputId": "586f3e37-3c6d-49c4-e02c-0978d663d487"
      },
      "execution_count": 37,
      "outputs": [
        {
          "output_type": "execute_result",
          "data": {
            "text/plain": [
              "                         Block  Primary Type  Location Description    Arrest  \\\n",
              "Block                 1.000000      0.126295              1.000000  0.047229   \n",
              "Primary Type          0.126295      1.000000              0.126295  0.050359   \n",
              "Location Description  1.000000      0.126295              1.000000  0.047229   \n",
              "Arrest                0.047229      0.050359              0.047229  1.000000   \n",
              "Beat                  0.024191      0.033639              0.024191 -0.012514   \n",
              "District              0.024633      0.033450              0.024633 -0.012657   \n",
              "Ward                 -0.004549      0.069341             -0.004549 -0.011844   \n",
              "Community Area        0.002456     -0.085540              0.002456  0.025076   \n",
              "Year                  0.001416     -0.007844              0.001416 -0.008864   \n",
              "Latitude             -0.024092      0.094528             -0.024092 -0.025264   \n",
              "Longitude            -0.024064     -0.002764             -0.024064 -0.040604   \n",
              "Month                 0.001582     -0.004713              0.001582  0.017826   \n",
              "WeekDay              -0.008138      0.009419             -0.008138 -0.000348   \n",
              "Location             -0.012232      0.076902             -0.012232 -0.008256   \n",
              "\n",
              "                          Beat  District      Ward  Community Area      Year  \\\n",
              "Block                 0.024191  0.024633 -0.004549        0.002456  0.001416   \n",
              "Primary Type          0.033639  0.033450  0.069341       -0.085540 -0.007844   \n",
              "Location Description  0.024191  0.024633 -0.004549        0.002456  0.001416   \n",
              "Arrest               -0.012514 -0.012657 -0.011844        0.025076 -0.008864   \n",
              "Beat                  1.000000  0.999695  0.677461       -0.488247  0.000677   \n",
              "District              0.999695  1.000000  0.678661       -0.488568  0.000637   \n",
              "Ward                  0.677461  0.678661  1.000000       -0.539819  0.000880   \n",
              "Community Area       -0.488247 -0.488568 -0.539819        1.000000 -0.003321   \n",
              "Year                  0.000677  0.000637  0.000880       -0.003321  1.000000   \n",
              "Latitude              0.631731  0.632564  0.656007       -0.782127 -0.001743   \n",
              "Longitude            -0.558533 -0.559294 -0.451811        0.256529  0.002023   \n",
              "Month                 0.005646  0.005728  0.002788       -0.002038 -0.055942   \n",
              "WeekDay               0.004797  0.004891  0.014967       -0.017361 -0.102571   \n",
              "Location              0.674582  0.675479  0.662376       -0.705795 -0.002005   \n",
              "\n",
              "                      Latitude  Longitude     Month   WeekDay  Location  \n",
              "Block                -0.024092  -0.024064  0.001582 -0.008138 -0.012232  \n",
              "Primary Type          0.094528  -0.002764 -0.004713  0.009419  0.076902  \n",
              "Location Description -0.024092  -0.024064  0.001582 -0.008138 -0.012232  \n",
              "Arrest               -0.025264  -0.040604  0.017826 -0.000348 -0.008256  \n",
              "Beat                  0.631731  -0.558533  0.005646  0.004797  0.674582  \n",
              "District              0.632564  -0.559294  0.005728  0.004891  0.675479  \n",
              "Ward                  0.656007  -0.451811  0.002788  0.014967  0.662376  \n",
              "Community Area       -0.782127   0.256529 -0.002038 -0.017361 -0.705795  \n",
              "Year                 -0.001743   0.002023 -0.055942 -0.102571 -0.002005  \n",
              "Latitude              1.000000  -0.550843  0.005211  0.011331  0.968694  \n",
              "Longitude            -0.550843   1.000000 -0.010326  0.001030 -0.740797  \n",
              "Month                 0.005211  -0.010326  1.000000 -0.014907  0.007266  \n",
              "WeekDay               0.011331   0.001030 -0.014907  1.000000  0.008813  \n",
              "Location              0.968694  -0.740797  0.007266  0.008813  1.000000  "
            ],
            "text/html": [
              "\n",
              "  <div id=\"df-354924a6-6491-45de-8564-4410c9b27a35\">\n",
              "    <div class=\"colab-df-container\">\n",
              "      <div>\n",
              "<style scoped>\n",
              "    .dataframe tbody tr th:only-of-type {\n",
              "        vertical-align: middle;\n",
              "    }\n",
              "\n",
              "    .dataframe tbody tr th {\n",
              "        vertical-align: top;\n",
              "    }\n",
              "\n",
              "    .dataframe thead th {\n",
              "        text-align: right;\n",
              "    }\n",
              "</style>\n",
              "<table border=\"1\" class=\"dataframe\">\n",
              "  <thead>\n",
              "    <tr style=\"text-align: right;\">\n",
              "      <th></th>\n",
              "      <th>Block</th>\n",
              "      <th>Primary Type</th>\n",
              "      <th>Location Description</th>\n",
              "      <th>Arrest</th>\n",
              "      <th>Beat</th>\n",
              "      <th>District</th>\n",
              "      <th>Ward</th>\n",
              "      <th>Community Area</th>\n",
              "      <th>Year</th>\n",
              "      <th>Latitude</th>\n",
              "      <th>Longitude</th>\n",
              "      <th>Month</th>\n",
              "      <th>WeekDay</th>\n",
              "      <th>Location</th>\n",
              "    </tr>\n",
              "  </thead>\n",
              "  <tbody>\n",
              "    <tr>\n",
              "      <th>Block</th>\n",
              "      <td>1.000000</td>\n",
              "      <td>0.126295</td>\n",
              "      <td>1.000000</td>\n",
              "      <td>0.047229</td>\n",
              "      <td>0.024191</td>\n",
              "      <td>0.024633</td>\n",
              "      <td>-0.004549</td>\n",
              "      <td>0.002456</td>\n",
              "      <td>0.001416</td>\n",
              "      <td>-0.024092</td>\n",
              "      <td>-0.024064</td>\n",
              "      <td>0.001582</td>\n",
              "      <td>-0.008138</td>\n",
              "      <td>-0.012232</td>\n",
              "    </tr>\n",
              "    <tr>\n",
              "      <th>Primary Type</th>\n",
              "      <td>0.126295</td>\n",
              "      <td>1.000000</td>\n",
              "      <td>0.126295</td>\n",
              "      <td>0.050359</td>\n",
              "      <td>0.033639</td>\n",
              "      <td>0.033450</td>\n",
              "      <td>0.069341</td>\n",
              "      <td>-0.085540</td>\n",
              "      <td>-0.007844</td>\n",
              "      <td>0.094528</td>\n",
              "      <td>-0.002764</td>\n",
              "      <td>-0.004713</td>\n",
              "      <td>0.009419</td>\n",
              "      <td>0.076902</td>\n",
              "    </tr>\n",
              "    <tr>\n",
              "      <th>Location Description</th>\n",
              "      <td>1.000000</td>\n",
              "      <td>0.126295</td>\n",
              "      <td>1.000000</td>\n",
              "      <td>0.047229</td>\n",
              "      <td>0.024191</td>\n",
              "      <td>0.024633</td>\n",
              "      <td>-0.004549</td>\n",
              "      <td>0.002456</td>\n",
              "      <td>0.001416</td>\n",
              "      <td>-0.024092</td>\n",
              "      <td>-0.024064</td>\n",
              "      <td>0.001582</td>\n",
              "      <td>-0.008138</td>\n",
              "      <td>-0.012232</td>\n",
              "    </tr>\n",
              "    <tr>\n",
              "      <th>Arrest</th>\n",
              "      <td>0.047229</td>\n",
              "      <td>0.050359</td>\n",
              "      <td>0.047229</td>\n",
              "      <td>1.000000</td>\n",
              "      <td>-0.012514</td>\n",
              "      <td>-0.012657</td>\n",
              "      <td>-0.011844</td>\n",
              "      <td>0.025076</td>\n",
              "      <td>-0.008864</td>\n",
              "      <td>-0.025264</td>\n",
              "      <td>-0.040604</td>\n",
              "      <td>0.017826</td>\n",
              "      <td>-0.000348</td>\n",
              "      <td>-0.008256</td>\n",
              "    </tr>\n",
              "    <tr>\n",
              "      <th>Beat</th>\n",
              "      <td>0.024191</td>\n",
              "      <td>0.033639</td>\n",
              "      <td>0.024191</td>\n",
              "      <td>-0.012514</td>\n",
              "      <td>1.000000</td>\n",
              "      <td>0.999695</td>\n",
              "      <td>0.677461</td>\n",
              "      <td>-0.488247</td>\n",
              "      <td>0.000677</td>\n",
              "      <td>0.631731</td>\n",
              "      <td>-0.558533</td>\n",
              "      <td>0.005646</td>\n",
              "      <td>0.004797</td>\n",
              "      <td>0.674582</td>\n",
              "    </tr>\n",
              "    <tr>\n",
              "      <th>District</th>\n",
              "      <td>0.024633</td>\n",
              "      <td>0.033450</td>\n",
              "      <td>0.024633</td>\n",
              "      <td>-0.012657</td>\n",
              "      <td>0.999695</td>\n",
              "      <td>1.000000</td>\n",
              "      <td>0.678661</td>\n",
              "      <td>-0.488568</td>\n",
              "      <td>0.000637</td>\n",
              "      <td>0.632564</td>\n",
              "      <td>-0.559294</td>\n",
              "      <td>0.005728</td>\n",
              "      <td>0.004891</td>\n",
              "      <td>0.675479</td>\n",
              "    </tr>\n",
              "    <tr>\n",
              "      <th>Ward</th>\n",
              "      <td>-0.004549</td>\n",
              "      <td>0.069341</td>\n",
              "      <td>-0.004549</td>\n",
              "      <td>-0.011844</td>\n",
              "      <td>0.677461</td>\n",
              "      <td>0.678661</td>\n",
              "      <td>1.000000</td>\n",
              "      <td>-0.539819</td>\n",
              "      <td>0.000880</td>\n",
              "      <td>0.656007</td>\n",
              "      <td>-0.451811</td>\n",
              "      <td>0.002788</td>\n",
              "      <td>0.014967</td>\n",
              "      <td>0.662376</td>\n",
              "    </tr>\n",
              "    <tr>\n",
              "      <th>Community Area</th>\n",
              "      <td>0.002456</td>\n",
              "      <td>-0.085540</td>\n",
              "      <td>0.002456</td>\n",
              "      <td>0.025076</td>\n",
              "      <td>-0.488247</td>\n",
              "      <td>-0.488568</td>\n",
              "      <td>-0.539819</td>\n",
              "      <td>1.000000</td>\n",
              "      <td>-0.003321</td>\n",
              "      <td>-0.782127</td>\n",
              "      <td>0.256529</td>\n",
              "      <td>-0.002038</td>\n",
              "      <td>-0.017361</td>\n",
              "      <td>-0.705795</td>\n",
              "    </tr>\n",
              "    <tr>\n",
              "      <th>Year</th>\n",
              "      <td>0.001416</td>\n",
              "      <td>-0.007844</td>\n",
              "      <td>0.001416</td>\n",
              "      <td>-0.008864</td>\n",
              "      <td>0.000677</td>\n",
              "      <td>0.000637</td>\n",
              "      <td>0.000880</td>\n",
              "      <td>-0.003321</td>\n",
              "      <td>1.000000</td>\n",
              "      <td>-0.001743</td>\n",
              "      <td>0.002023</td>\n",
              "      <td>-0.055942</td>\n",
              "      <td>-0.102571</td>\n",
              "      <td>-0.002005</td>\n",
              "    </tr>\n",
              "    <tr>\n",
              "      <th>Latitude</th>\n",
              "      <td>-0.024092</td>\n",
              "      <td>0.094528</td>\n",
              "      <td>-0.024092</td>\n",
              "      <td>-0.025264</td>\n",
              "      <td>0.631731</td>\n",
              "      <td>0.632564</td>\n",
              "      <td>0.656007</td>\n",
              "      <td>-0.782127</td>\n",
              "      <td>-0.001743</td>\n",
              "      <td>1.000000</td>\n",
              "      <td>-0.550843</td>\n",
              "      <td>0.005211</td>\n",
              "      <td>0.011331</td>\n",
              "      <td>0.968694</td>\n",
              "    </tr>\n",
              "    <tr>\n",
              "      <th>Longitude</th>\n",
              "      <td>-0.024064</td>\n",
              "      <td>-0.002764</td>\n",
              "      <td>-0.024064</td>\n",
              "      <td>-0.040604</td>\n",
              "      <td>-0.558533</td>\n",
              "      <td>-0.559294</td>\n",
              "      <td>-0.451811</td>\n",
              "      <td>0.256529</td>\n",
              "      <td>0.002023</td>\n",
              "      <td>-0.550843</td>\n",
              "      <td>1.000000</td>\n",
              "      <td>-0.010326</td>\n",
              "      <td>0.001030</td>\n",
              "      <td>-0.740797</td>\n",
              "    </tr>\n",
              "    <tr>\n",
              "      <th>Month</th>\n",
              "      <td>0.001582</td>\n",
              "      <td>-0.004713</td>\n",
              "      <td>0.001582</td>\n",
              "      <td>0.017826</td>\n",
              "      <td>0.005646</td>\n",
              "      <td>0.005728</td>\n",
              "      <td>0.002788</td>\n",
              "      <td>-0.002038</td>\n",
              "      <td>-0.055942</td>\n",
              "      <td>0.005211</td>\n",
              "      <td>-0.010326</td>\n",
              "      <td>1.000000</td>\n",
              "      <td>-0.014907</td>\n",
              "      <td>0.007266</td>\n",
              "    </tr>\n",
              "    <tr>\n",
              "      <th>WeekDay</th>\n",
              "      <td>-0.008138</td>\n",
              "      <td>0.009419</td>\n",
              "      <td>-0.008138</td>\n",
              "      <td>-0.000348</td>\n",
              "      <td>0.004797</td>\n",
              "      <td>0.004891</td>\n",
              "      <td>0.014967</td>\n",
              "      <td>-0.017361</td>\n",
              "      <td>-0.102571</td>\n",
              "      <td>0.011331</td>\n",
              "      <td>0.001030</td>\n",
              "      <td>-0.014907</td>\n",
              "      <td>1.000000</td>\n",
              "      <td>0.008813</td>\n",
              "    </tr>\n",
              "    <tr>\n",
              "      <th>Location</th>\n",
              "      <td>-0.012232</td>\n",
              "      <td>0.076902</td>\n",
              "      <td>-0.012232</td>\n",
              "      <td>-0.008256</td>\n",
              "      <td>0.674582</td>\n",
              "      <td>0.675479</td>\n",
              "      <td>0.662376</td>\n",
              "      <td>-0.705795</td>\n",
              "      <td>-0.002005</td>\n",
              "      <td>0.968694</td>\n",
              "      <td>-0.740797</td>\n",
              "      <td>0.007266</td>\n",
              "      <td>0.008813</td>\n",
              "      <td>1.000000</td>\n",
              "    </tr>\n",
              "  </tbody>\n",
              "</table>\n",
              "</div>\n",
              "      <button class=\"colab-df-convert\" onclick=\"convertToInteractive('df-354924a6-6491-45de-8564-4410c9b27a35')\"\n",
              "              title=\"Convert this dataframe to an interactive table.\"\n",
              "              style=\"display:none;\">\n",
              "        \n",
              "  <svg xmlns=\"http://www.w3.org/2000/svg\" height=\"24px\"viewBox=\"0 0 24 24\"\n",
              "       width=\"24px\">\n",
              "    <path d=\"M0 0h24v24H0V0z\" fill=\"none\"/>\n",
              "    <path d=\"M18.56 5.44l.94 2.06.94-2.06 2.06-.94-2.06-.94-.94-2.06-.94 2.06-2.06.94zm-11 1L8.5 8.5l.94-2.06 2.06-.94-2.06-.94L8.5 2.5l-.94 2.06-2.06.94zm10 10l.94 2.06.94-2.06 2.06-.94-2.06-.94-.94-2.06-.94 2.06-2.06.94z\"/><path d=\"M17.41 7.96l-1.37-1.37c-.4-.4-.92-.59-1.43-.59-.52 0-1.04.2-1.43.59L10.3 9.45l-7.72 7.72c-.78.78-.78 2.05 0 2.83L4 21.41c.39.39.9.59 1.41.59.51 0 1.02-.2 1.41-.59l7.78-7.78 2.81-2.81c.8-.78.8-2.07 0-2.86zM5.41 20L4 18.59l7.72-7.72 1.47 1.35L5.41 20z\"/>\n",
              "  </svg>\n",
              "      </button>\n",
              "      \n",
              "  <style>\n",
              "    .colab-df-container {\n",
              "      display:flex;\n",
              "      flex-wrap:wrap;\n",
              "      gap: 12px;\n",
              "    }\n",
              "\n",
              "    .colab-df-convert {\n",
              "      background-color: #E8F0FE;\n",
              "      border: none;\n",
              "      border-radius: 50%;\n",
              "      cursor: pointer;\n",
              "      display: none;\n",
              "      fill: #1967D2;\n",
              "      height: 32px;\n",
              "      padding: 0 0 0 0;\n",
              "      width: 32px;\n",
              "    }\n",
              "\n",
              "    .colab-df-convert:hover {\n",
              "      background-color: #E2EBFA;\n",
              "      box-shadow: 0px 1px 2px rgba(60, 64, 67, 0.3), 0px 1px 3px 1px rgba(60, 64, 67, 0.15);\n",
              "      fill: #174EA6;\n",
              "    }\n",
              "\n",
              "    [theme=dark] .colab-df-convert {\n",
              "      background-color: #3B4455;\n",
              "      fill: #D2E3FC;\n",
              "    }\n",
              "\n",
              "    [theme=dark] .colab-df-convert:hover {\n",
              "      background-color: #434B5C;\n",
              "      box-shadow: 0px 1px 3px 1px rgba(0, 0, 0, 0.15);\n",
              "      filter: drop-shadow(0px 1px 2px rgba(0, 0, 0, 0.3));\n",
              "      fill: #FFFFFF;\n",
              "    }\n",
              "  </style>\n",
              "\n",
              "      <script>\n",
              "        const buttonEl =\n",
              "          document.querySelector('#df-354924a6-6491-45de-8564-4410c9b27a35 button.colab-df-convert');\n",
              "        buttonEl.style.display =\n",
              "          google.colab.kernel.accessAllowed ? 'block' : 'none';\n",
              "\n",
              "        async function convertToInteractive(key) {\n",
              "          const element = document.querySelector('#df-354924a6-6491-45de-8564-4410c9b27a35');\n",
              "          const dataTable =\n",
              "            await google.colab.kernel.invokeFunction('convertToInteractive',\n",
              "                                                     [key], {});\n",
              "          if (!dataTable) return;\n",
              "\n",
              "          const docLinkHtml = 'Like what you see? Visit the ' +\n",
              "            '<a target=\"_blank\" href=https://colab.research.google.com/notebooks/data_table.ipynb>data table notebook</a>'\n",
              "            + ' to learn more about interactive tables.';\n",
              "          element.innerHTML = '';\n",
              "          dataTable['output_type'] = 'display_data';\n",
              "          await google.colab.output.renderOutput(dataTable, element);\n",
              "          const docLink = document.createElement('div');\n",
              "          docLink.innerHTML = docLinkHtml;\n",
              "          element.appendChild(docLink);\n",
              "        }\n",
              "      </script>\n",
              "    </div>\n",
              "  </div>\n",
              "  "
            ]
          },
          "metadata": {},
          "execution_count": 37
        }
      ]
    },
    {
      "cell_type": "code",
      "source": [
        "sns.heatmap(corelation)"
      ],
      "metadata": {
        "colab": {
          "base_uri": "https://localhost:8080/",
          "height": 379
        },
        "id": "Mjy9kszPiF2u",
        "outputId": "bfe2541d-9f41-4d31-9428-832388b07ddd"
      },
      "execution_count": 38,
      "outputs": [
        {
          "output_type": "execute_result",
          "data": {
            "text/plain": [
              "<matplotlib.axes._subplots.AxesSubplot at 0x7fa0206de2d0>"
            ]
          },
          "metadata": {},
          "execution_count": 38
        },
        {
          "output_type": "display_data",
          "data": {
            "text/plain": [
              "<Figure size 432x288 with 2 Axes>"
            ],
            "image/png": "[encoded data removed]"
          },
          "metadata": {
            "needs_background": "light"
          }
        }
      ]
    },
    {
      "cell_type": "code",
      "source": [
        "selected_columns = ['Latitude','Longitude','Location Description','Block','WeekDay']\n",
        "#selected_columns = ['Latitude','Longitude']"
      ],
      "metadata": {
        "id": "bO_yyQwsiOJJ"
      },
      "execution_count": 39,
      "outputs": []
    },
    {
      "cell_type": "code",
      "source": [
        "from sklearn.model_selection import train_test_split\n",
        "X_train, X_test, y_train, y_test = train_test_split(data[selected_columns], data['Primary Type'], test_size=0.3) # 70% training and 30% test"
      ],
      "metadata": {
        "id": "PCr5Q-jdiSlJ"
      },
      "execution_count": 40,
      "outputs": []
    },
    {
      "cell_type": "code",
      "source": [
        "knn_5 = KNeighborsClassifier(n_neighbors=5) \n",
        "knn_5.fit(X_train,y_train)\n",
        "pred_train = knn_5.predict(X_train)\n",
        "pred_i = knn_5.predict(X_test)\n",
        "print('Test accuracy ', metrics.accuracy_score(y_train, pred_train))\n",
        "print('Accuracy ', metrics.accuracy_score(y_test, pred_i))\n",
        "print('F1 score ', metrics.f1_score(y_test, pred_i, average = 'weighted'))"
      ],
      "metadata": {
        "colab": {
          "base_uri": "https://localhost:8080/"
        },
        "id": "YJfrJLVgiSdJ",
        "outputId": "f6114d8f-5a74-493f-f464-3ce5bc56a546"
      },
      "execution_count": 41,
      "outputs": [
        {
          "output_type": "stream",
          "name": "stdout",
          "text": [
            "Test accuracy  0.47420845070422535\n",
            "Accuracy  0.2748448837943001\n",
            "F1 score  0.26404733903948097\n"
          ]
        }
      ]
    },
    {
      "cell_type": "code",
      "source": [
        "error_rate = []\n",
        "\n",
        "krange = range(10,50,5)\n",
        "for i in krange:\n",
        " \n",
        " knn = KNeighborsClassifier(n_neighbors=i, metric='manhattan', weights = 'uniform',n_jobs= -1) # haversine - if only lat long\n",
        " knn.fit(X_train,y_train)\n",
        " pred_train = knn.predict(X_train)\n",
        " pred_i = knn.predict(X_test)\n",
        " error_rate.append(np.mean(pred_i != y_test))\n",
        " print('Neighbours ',i)\n",
        " print('Test accuracy ', metrics.accuracy_score(y_train, pred_train))\n",
        " print('Accuracy ', metrics.accuracy_score(y_test, pred_i))\n",
        " print('F1 score ', metrics.f1_score(y_test, pred_i, average = 'weighted'))"
      ],
      "metadata": {
        "colab": {
          "base_uri": "https://localhost:8080/"
        },
        "id": "7nPN3hBNiSVK",
        "outputId": "06ca2180-d7c8-41b4-facc-b2a05c3fdef7"
      },
      "execution_count": 42,
      "outputs": [
        {
          "output_type": "stream",
          "name": "stdout",
          "text": [
            "Neighbours  10\n",
            "Test accuracy  0.4152338028169014\n",
            "Accuracy  0.30045220317593857\n",
            "F1 score  0.2746264755143151\n",
            "Neighbours  15\n",
            "Test accuracy  0.39055774647887326\n",
            "Accuracy  0.30697234199179724\n",
            "F1 score  0.2734354539704108\n",
            "Neighbours  20\n",
            "Test accuracy  0.3794929577464789\n",
            "Accuracy  0.3131769902197918\n",
            "F1 score  0.2735700845981564\n",
            "Neighbours  25\n",
            "Test accuracy  0.36858591549295777\n",
            "Accuracy  0.32001261962351457\n",
            "F1 score  0.27620801797571803\n",
            "Neighbours  30\n",
            "Test accuracy  0.3634929577464789\n",
            "Accuracy  0.3204332737406667\n",
            "F1 score  0.2732897531000902\n",
            "Neighbours  35\n",
            "Test accuracy  0.3600450704225352\n",
            "Accuracy  0.3232201072667999\n",
            "F1 score  0.2709532885486527\n",
            "Neighbours  40\n",
            "Test accuracy  0.358512676056338\n",
            "Accuracy  0.3232726890314439\n",
            "F1 score  0.2686079845096781\n",
            "Neighbours  45\n",
            "Test accuracy  0.3543887323943662\n",
            "Accuracy  0.3250604690293406\n",
            "F1 score  0.2667110965108763\n"
          ]
        }
      ]
    },
    {
      "cell_type": "code",
      "source": [
        "plt.figure(figsize=(10,6))\n",
        "\n",
        "plt.plot(krange,error_rate, color= 'blue', linestyle= 'dashed', marker= 'o', markerfacecolor='red', markersize=1)\n",
        "plt.title('Error Rate vs. K Value')\n",
        "plt.xlabel('K')\n",
        "plt.ylabel('Error Rate')"
      ],
      "metadata": {
        "colab": {
          "base_uri": "https://localhost:8080/",
          "height": 421
        },
        "id": "-hEPtf2Tie_i",
        "outputId": "18e6f622-e988-44a9-de02-fb1046f46300"
      },
      "execution_count": 43,
      "outputs": [
        {
          "output_type": "execute_result",
          "data": {
            "text/plain": [
              "Text(0, 0.5, 'Error Rate')"
            ]
          },
          "metadata": {},
          "execution_count": 43
        },
        {
          "output_type": "display_data",
          "data": {
            "text/plain": [
              "<Figure size 720x432 with 1 Axes>"
            ],
            "image/png": "[encoded data removed]"
          },
          "metadata": {
            "needs_background": "light"
          }
        }
      ]
    },
    {
      "cell_type": "code",
      "source": [],
      "metadata": {
        "id": "9csNkk3xitA8"
      },
      "execution_count": null,
      "outputs": []
    }
  ]
}